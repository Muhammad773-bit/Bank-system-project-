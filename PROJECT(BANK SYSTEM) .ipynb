{
 "cells": [
  {
   "cell_type": "markdown",
   "id": "a3d43469-1fd5-4279-888d-820caba6ea9b",
   "metadata": {},
   "source": [
    "# Banking System Assignment (Functional Programming) "
   ]
  },
  {
   "cell_type": "code",
   "execution_count": 24,
   "id": "740932d3-b268-4f94-940b-6d64c3862b1b",
   "metadata": {},
   "outputs": [
    {
     "name": "stdin",
     "output_type": "stream",
     "text": [
      "Enter your name for opening the account:  iyer\n"
     ]
    },
    {
     "name": "stdout",
     "output_type": "stream",
     "text": [
      "Account created: {'name': 'iyer', 'balance': 0, 'transactions': []}\n"
     ]
    },
    {
     "name": "stdin",
     "output_type": "stream",
     "text": [
      "Enter how much amount you want to deposit:  10000\n"
     ]
    },
    {
     "name": "stdout",
     "output_type": "stream",
     "text": [
      "After deposit: {'name': 'iyer', 'balance': 10000.0, 'transactions': [10000.0]}\n"
     ]
    },
    {
     "name": "stdin",
     "output_type": "stream",
     "text": [
      "Enter the amount to withdraw:  5000\n"
     ]
    },
    {
     "name": "stdout",
     "output_type": "stream",
     "text": [
      "After withdrawal: {'name': 'iyer', 'balance': 5000.0, 'transactions': [10000.0, -5000.0]}\n",
      "\n",
      "Account Statement:\n",
      "Name: iyer\n",
      "Current Balance: 5000.0\n",
      "Transactions:\n",
      "Deposit: 10000.0\n",
      "Withdrawal: 5000.0\n",
      "\n"
     ]
    }
   ],
   "source": [
    "def create_account():\n",
    "    \"\"\"\n",
    "    This function prompts the user to enter their name and creates an account.\n",
    "    The account is represented as a dictionary with the following keys:\n",
    "    \"\"\"\n",
    "    name = input(\"Enter your name for opening the account: \")\n",
    "    account = {\"name\": name,\n",
    "               \"balance\": 0,\n",
    "               \"transactions\": []}\n",
    "    return account\n",
    "\n",
    "# Create the account\n",
    "account = create_account()\n",
    "print(\"Account created:\", account)\n",
    "\n",
    "def deposit_amount(account):\n",
    "    \"\"\"\n",
    "    This function allows the user to deposit money into the account.\n",
    "    - It ensures the amount entered is positive.\n",
    "    - Updates the balance and appends the transaction to the transaction list.\n",
    "    - Handles invalid input gracefully.\n",
    "    \"\"\"\n",
    "    try:\n",
    "        deposit_money = float(input(\"Enter how much amount you want to deposit: \"))\n",
    "        if deposit_money <= 0:\n",
    "            print(\"Amount must be positive\")\n",
    "            return account\n",
    "        account[\"balance\"] += deposit_money\n",
    "        account[\"transactions\"].append(deposit_money)\n",
    "    except ValueError:\n",
    "        print(\"Invalid input!\")\n",
    "    return account\n",
    "\n",
    "# Deposit money\n",
    "account = deposit_amount(account)\n",
    "print(\"After deposit:\", account)\n",
    "\n",
    "def withdrawal(account):\n",
    "    \"\"\"\n",
    "    This function allows the user to withdraw money from the account.\n",
    "    - Ensures the amount entered is positive and less than or equal to the balance.\n",
    "    - Updates the balance and appends the transaction (as a negative value) to the transaction list.\n",
    "    - Handles invalid input and displays relevant error messages.\n",
    "    \"\"\"\n",
    "    try:\n",
    "        money = float(input(\"Enter the amount to withdraw: \"))\n",
    "        if money <= 0:\n",
    "            print(\"Error! Withdrawal is not possible, amount must be greater than 0.\")\n",
    "            return account\n",
    "        if money > account[\"balance\"]:\n",
    "            print(\"Insufficient funds!\")\n",
    "            return account\n",
    "        account[\"balance\"] -= money\n",
    "        account[\"transactions\"].append(-money)\n",
    "    except ValueError:\n",
    "        print('Invalid input!')\n",
    "    return account\n",
    "\n",
    "# Withdraw money\n",
    "account = withdrawal(account)\n",
    "print(\"After withdrawal:\", account) \n",
    "\n",
    "def print_statement(account):\n",
    "    \"\"\"\n",
    "    This function prints the account details and transaction history.\n",
    "    - Displays the account holder's name, current balance, and all transactions.\n",
    "    \"\"\"\n",
    "    print(\"\\nAccount Statement:\")\n",
    "    print(f\"Name: {account['name']}\")\n",
    "    print(f\"Current Balance: {account['balance']}\")\n",
    "    print(\"Transactions:\")\n",
    "    for transaction in account[\"transactions\"]:\n",
    "        transaction_type = \"Deposit\" if transaction > 0 else \"Withdrawal\"\n",
    "        print(f\"{transaction_type}: {abs(transaction)}\")\n",
    "    print()\n",
    "\n",
    "# Print the account statement\n",
    "print_statement(account)\n",
    "\n"
   ]
  },
  {
   "cell_type": "code",
   "execution_count": null,
   "id": "71f2edea-8066-45fd-9440-1d512b974801",
   "metadata": {},
   "outputs": [],
   "source": []
  },
  {
   "cell_type": "code",
   "execution_count": null,
   "id": "d68d8c1a-965e-4032-a949-30fc9367b324",
   "metadata": {},
   "outputs": [],
   "source": []
  },
  {
   "cell_type": "code",
   "execution_count": null,
   "id": "1aa84c0c-2555-4c86-8103-7092495afb72",
   "metadata": {},
   "outputs": [],
   "source": []
  },
  {
   "cell_type": "code",
   "execution_count": null,
   "id": "309f0a67-7289-4a1f-921e-be749b4b04ea",
   "metadata": {},
   "outputs": [],
   "source": []
  }
 ],
 "metadata": {
  "kernelspec": {
   "display_name": "Python 3 (ipykernel)",
   "language": "python",
   "name": "python3"
  },
  "language_info": {
   "codemirror_mode": {
    "name": "ipython",
    "version": 3
   },
   "file_extension": ".py",
   "mimetype": "text/x-python",
   "name": "python",
   "nbconvert_exporter": "python",
   "pygments_lexer": "ipython3",
   "version": "3.13.1"
  }
 },
 "nbformat": 4,
 "nbformat_minor": 5
}
